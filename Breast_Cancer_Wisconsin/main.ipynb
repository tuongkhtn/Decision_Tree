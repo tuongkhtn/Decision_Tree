{
 "cells": [
  {
   "cell_type": "markdown",
   "metadata": {},
   "source": [
    "## **Import Libraries**"
   ]
  },
  {
   "cell_type": "code",
   "execution_count": 45,
   "metadata": {},
   "outputs": [],
   "source": [
    "import os\n",
    "import numpy as np\n",
    "import pandas as pd\n",
    "import seaborn as sns\n",
    "import matplotlib.pyplot as plt\n",
    "\n",
    "import graphviz\n",
    "from sklearn.datasets import load_breast_cancer\n",
    "from sklearn.model_selection import StratifiedShuffleSplit\n",
    "from sklearn.tree import DecisionTreeClassifier, export_graphviz\n",
    "from sklearn.metrics import classification_report, confusion_matrix, accuracy_score"
   ]
  },
  {
   "cell_type": "markdown",
   "metadata": {},
   "source": [
    "## **Load dataset**"
   ]
  },
  {
   "cell_type": "code",
   "execution_count": 34,
   "metadata": {},
   "outputs": [],
   "source": [
    "data = load_breast_cancer()\n",
    "features = pd.DataFrame(data.data, columns=data.feature_names)\n",
    "labels = pd.Series(data.target, name=\"target\")\n",
    "classes_name = {\n",
    "    0: \"Malignant\",\n",
    "    1: \"Benign\"\n",
    "}"
   ]
  },
  {
   "cell_type": "markdown",
   "metadata": {},
   "source": [
    "## **Split dataset into training and testing set**"
   ]
  },
  {
   "cell_type": "markdown",
   "metadata": {},
   "source": [
    "### **Save data**"
   ]
  },
  {
   "cell_type": "code",
   "execution_count": null,
   "metadata": {},
   "outputs": [],
   "source": [
    "def split_and_save_data(features, labels, ratio_test=0.4, root_folder='data'):\n",
    "    \"\"\"\n",
    "    Splits the dataset into training and testing sets based on the specified ratio, \n",
    "    then saves the split data into CSV files within a structured folder hierarchy.\n",
    "\n",
    "    Args:\n",
    "        features (pd.DataFrame): Input dataset containing the features to be split.\n",
    "        labels (pd.Series): Corresponding labels for the input dataset.\n",
    "        ratio_test (float, optional): Proportion of the data to be used for testing. \n",
    "            Defaults to 0.4 (60% train, 40% test).\n",
    "        root_folder (str, optional): Root directory where the split data will be saved. \n",
    "            Defaults to 'data.\n",
    "    \"\"\"\n",
    "    \n",
    "    train_percent = int((1 - ratio_test) * 100)\n",
    "    test_percent = int(ratio_test * 100)\n",
    "    \n",
    "    os.makedirs(root_folder, exist_ok=True)\n",
    "    \n",
    "    base_folder_name = f\"train_{train_percent}_test_{test_percent}\"\n",
    "    base_folder = os.path.join(root_folder, base_folder_name)\n",
    "    os.makedirs(base_folder, exist_ok=True)\n",
    "    \n",
    "    train_folder = os.path.join(base_folder, \"train\")\n",
    "    test_folder = os.path.join(base_folder, \"test\")\n",
    "    os.makedirs(train_folder, exist_ok=True)\n",
    "    os.makedirs(test_folder, exist_ok=True)\n",
    "    \n",
    "    sss = StratifiedShuffleSplit(n_splits=1, test_size=ratio_test, random_state=42)\n",
    "    for train_index, test_index in sss.split(features, labels):\n",
    "        train_features, test_features = features.iloc[train_index], features.iloc[test_index]\n",
    "        train_labels, test_labels = labels.iloc[train_index], labels.iloc[test_index]\n",
    "        \n",
    "        train_features.to_csv(os.path.join(train_folder, \"feature_train.csv\"), index=False)\n",
    "        train_labels.to_csv(os.path.join(train_folder, \"label_train.csv\"), index=False, header=False)\n",
    "        \n",
    "        test_features.to_csv(os.path.join(test_folder, \"feature_test.csv\"), index=False)\n",
    "        test_labels.to_csv(os.path.join(test_folder, \"label_test.csv\"), index=False, header=False)\n",
    "    \n",
    "    "
   ]
  },
  {
   "cell_type": "code",
   "execution_count": 38,
   "metadata": {},
   "outputs": [],
   "source": [
    "split_and_save_data(features, labels, ratio_test=0.6)\n",
    "split_and_save_data(features, labels, ratio_test=0.4)\n",
    "split_and_save_data(features, labels, ratio_test=0.2)\n",
    "split_and_save_data(features, labels, ratio_test=0.1)"
   ]
  },
  {
   "cell_type": "markdown",
   "metadata": {},
   "source": [
    "### **Training and testing data**"
   ]
  },
  {
   "cell_type": "code",
   "execution_count": 37,
   "metadata": {},
   "outputs": [],
   "source": [
    "def load_split_data(data_split_folder='train_40_test_60'):\n",
    "    \"\"\"\n",
    "    Loads the train and test datasets from CSV files saved previously, \n",
    "    based on the specified ratio for the test dataset.\n",
    "\n",
    "    Args:\n",
    "        ratio_test (float, optional): Proportion of the data to be used for testing. \n",
    "            Defaults to 0.4 (40% test, 60% train).\n",
    "        root_folder (str, optional): Root directory where the split data is saved. \n",
    "            Defaults to \"data\".\n",
    "\n",
    "    Returns:\n",
    "        X_train (pd.DataFrame): The features of the training set.\n",
    "        y_train (pd.Series): The labels of the training set.\n",
    "        X_test (pd.DataFrame): The features of the testing set.\n",
    "        y_test (pd.Series): The labels of the testing set.\n",
    "    \"\"\"\n",
    "    \n",
    "    train_folder = os.path.join(data_split_folder, \"train\")\n",
    "    test_folder = os.path.join(data_split_folder, \"test\")\n",
    "    \n",
    "    X_train = pd.read_csv(os.path.join(train_folder, \"feature_train.csv\"))\n",
    "    y_train = pd.read_csv(os.path.join(train_folder, \"label_train.csv\"), header=None).squeeze()\n",
    "    \n",
    "    X_test = pd.read_csv(os.path.join(test_folder, \"feature_test.csv\"))\n",
    "    y_test = pd.read_csv(os.path.join(test_folder, \"label_test.csv\"), header=None).squeeze()\n",
    "    \n",
    "    return X_train, y_train, X_test, y_test"
   ]
  },
  {
   "cell_type": "code",
   "execution_count": null,
   "metadata": {},
   "outputs": [],
   "source": [
    "X_train, y_train, X_test, y_test = load_split_data(data_split_folder='train_40_test_60')"
   ]
  },
  {
   "cell_type": "markdown",
   "metadata": {},
   "source": [
    "### **Visualize the data**"
   ]
  },
  {
   "cell_type": "code",
   "execution_count": null,
   "metadata": {},
   "outputs": [],
   "source": [
    "def visualize_class_distribution(original_labels, train_labels, test_labels):\n",
    "    \"\"\"\n",
    "    Visualizes the distribution of class labels in the original, training, and testing datasets \n",
    "    using bar plots for easy comparison.\n",
    "\n",
    "    Args:\n",
    "        original_labels (pd.Series): The class labels from the original dataset.\n",
    "        train_labels (pd.Series): The class labels from the training dataset.\n",
    "        test_labels (pd.Series): The class labels from the testing dataset.\n",
    "    \"\"\"\n",
    "    \n",
    "    original_counts = original_labels.value_counts()\n",
    "    train_counts = train_labels.value_counts()\n",
    "    test_counts = test_labels.value_counts()\n",
    "    \n",
    "    classes = sorted(original_counts.index)\n",
    "    original_counts = original_counts.reindex(classes)\n",
    "    train_counts = train_counts.reindex(classes)\n",
    "    test_counts = test_counts.reindex(classes)\n",
    "    \n",
    "    plt.figure(figsize=(12, 6))\n",
    "    \n",
    "    x = range(len(classes))\n",
    "    width = 0.2\n",
    "    \n",
    "    plt.bar([i - width for i in x], original_counts, width=width, label='Original', color='blue')\n",
    "    plt.bar(x, train_counts, width=width, label='Train', color='green')\n",
    "    plt.bar([i + width for i in x], test_counts, width=width, label='Test', color='red')\n",
    "    \n",
    "    plt.xticks(x, [f'Class {cls}' for cls in classes])\n",
    "    plt.xlabel('Classes')\n",
    "    plt.ylabel('Count')\n",
    "    plt.title('Class Distribution in the Original, Train, and Test Datasets')\n",
    "    plt.legend()\n",
    "    plt.tight_layout()\n",
    "    \n",
    "    plt.show()"
   ]
  },
  {
   "cell_type": "code",
   "execution_count": 9,
   "metadata": {},
   "outputs": [
    {
     "data": {
      "image/png": "[encoded data removed]",
      "text/plain": [
       "<Figure size 1200x600 with 1 Axes>"
      ]
     },
     "metadata": {},
     "output_type": "display_data"
    }
   ],
   "source": [
    "visualize_class_distribution(\n",
    "    original_labels=labels,\n",
    "    train_labels=y_train,\n",
    "    test_labels=y_test\n",
    ")"
   ]
  },
  {
   "cell_type": "markdown",
   "metadata": {},
   "source": [
    "## **Training**"
   ]
  },
  {
   "cell_type": "code",
   "execution_count": 39,
   "metadata": {},
   "outputs": [],
   "source": [
    "def train_decision_tree(X_train, y_train, criterion='entropy', max_depth=None, feature_names=None, graphviz_path=None):\n",
    "    \"\"\"\n",
    "    Trains a decision tree classifier on the input features and labels, and optionally visualizes the tree.\n",
    "    \n",
    "    Args:\n",
    "        X_train (pd.DataFrame): The input features of the training set.\n",
    "        y_train (pd.Series): The labels of the training set.\n",
    "        criterion (str, optional): The function to measure the quality of a split. \n",
    "            Defaults to 'entropy'. Can be 'gini' for the Gini impurity.\n",
    "        max_depth (int, optional): The maximum depth of the decision tree. \n",
    "            Defaults to None, meaning the tree is expanded until all leaves are pure.\n",
    "        feature_names (list of str, optional): A list of feature names. If provided, \n",
    "            the tree will be visualized with these feature names.\n",
    "        graphviz_path (str, optional): Path where the decision tree visualization should be saved as a PNG image. \n",
    "            If None, the tree won't be saved.\n",
    "\n",
    "    Returns:\n",
    "        model (DecisionTreeClassifier): The trained decision tree classifier.\n",
    "    \"\"\"\n",
    "    \n",
    "    # Train decision tree classifier\n",
    "    model = DecisionTreeClassifier(criterion=criterion, max_depth=max_depth, random_state=42)\n",
    "    model.fit(X_train, y_train)\n",
    "    \n",
    "    # Visualize the decision tree  \n",
    "    if feature_names is not None:\n",
    "        dot_data = export_graphviz(\n",
    "            model, out_file=None,\n",
    "            feature_names=feature_names,\n",
    "            class_names=[classes_name[label] for label in np.unique(y_train)],\n",
    "            filled=True, rounded=True,\n",
    "            special_characters=True\n",
    "        )\n",
    "        \n",
    "        graph = graphviz.Source(dot_data)\n",
    "        \n",
    "        if graphviz_path is not None:\n",
    "            graph.render(graphviz_path, format='png', cleanup=True)\n",
    "    \n",
    "    return model"
   ]
  },
  {
   "cell_type": "code",
   "execution_count": null,
   "metadata": {},
   "outputs": [],
   "source": [
    "model = train_decision_tree(X_train, y_train, max_depth=2, feature_names=X_train.columns)"
   ]
  },
  {
   "cell_type": "markdown",
   "metadata": {},
   "source": [
    "## **Evaluation**"
   ]
  },
  {
   "cell_type": "code",
   "execution_count": 64,
   "metadata": {},
   "outputs": [],
   "source": [
    "def evaluate_decision_tree(model, X_test, y_test, report_path=None, heatmap_path=None):\n",
    "    \"\"\"\n",
    "    Evaluates the performance of a trained decision tree model on the test dataset.\n",
    "    It prints the classification report, saves it to an Excel file, and visualizes \n",
    "    the confusion matrix as a heatmap.\n",
    "\n",
    "    Args:\n",
    "        model (DecisionTreeClassifier): The trained decision tree model to evaluate.\n",
    "        X_test (pd.DataFrame): The input features of the test dataset.\n",
    "        y_test (pd.Series): The true labels of the test dataset.\n",
    "        report_path (str, optional): The path where the classification report should be saved as an Excel file.\n",
    "            If None, the report will not be saved.\n",
    "        heatmap_path (str, optional): The path where the confusion matrix heatmap should be saved as an image file.\n",
    "            If None, the heatmap will not be saved.\n",
    "            \n",
    "    Returns:\n",
    "        accuracy (float): The accuracy of the model on the test dataset.\n",
    "    \"\"\"\n",
    "    \n",
    "    labels_name = [classes_name[i] for i in np.unique(y_test)]\n",
    "    \n",
    "    y_pred = model.predict(X_test)\n",
    "    accuracy = accuracy_score(y_test, y_pred)\n",
    "    \n",
    "    # print(\"Classification Report:\")\n",
    "    report = classification_report(y_test, y_pred, target_names=[label_name[0] for label_name in labels_name], output_dict=True) \n",
    "    # print(pd.DataFrame(report))\n",
    "    \n",
    "    report_df = pd.DataFrame(report).transpose()\n",
    "    \n",
    "    if report_path is not None:\n",
    "        report_df.to_excel(report_path)\n",
    "    \n",
    "    \n",
    "    # print(\"Confusion Matrix:\")\n",
    "    cm = confusion_matrix(y_test, y_pred)\n",
    "    # print(cm)\n",
    "    \n",
    "    plt.figure(figsize=(8, 6))\n",
    "    sns.heatmap(cm, annot=True, fmt='d', cmap='Blues', xticklabels=labels_name, yticklabels=labels_name, annot_kws={'size': 16})\n",
    "    plt.title('Decision Tree Classifier confusion matrix')\n",
    "    plt.xlabel('Predicted label')\n",
    "    plt.ylabel('True')\n",
    "    plt.tight_layout()\n",
    "    \n",
    "    if heatmap_path is not None:\n",
    "        plt.savefig(heatmap_path)\n",
    "    \n",
    "    # plt.show()\n",
    "    \n",
    "    return accuracy"
   ]
  },
  {
   "cell_type": "code",
   "execution_count": 36,
   "metadata": {},
   "outputs": [
    {
     "name": "stdout",
     "output_type": "stream",
     "text": [
      "Classification Report:\n",
      "                   M           B  accuracy   macro avg  weighted avg\n",
      "precision   0.843750    0.969697  0.916667    0.906723      0.922743\n",
      "recall      0.952941    0.895105  0.916667    0.924023      0.916667\n",
      "f1-score    0.895028    0.930909  0.916667    0.912968      0.917532\n",
      "support    85.000000  143.000000  0.916667  228.000000    228.000000\n",
      "Confusion Matrix:\n",
      "[[ 81   4]\n",
      " [ 15 128]]\n"
     ]
    },
    {
     "data": {
      "image/png": "[encoded data removed]",
      "text/plain": [
       "<Figure size 800x600 with 2 Axes>"
      ]
     },
     "metadata": {},
     "output_type": "display_data"
    }
   ],
   "source": [
    "evaluate_decision_tree(model, X_test, y_test, max_depth=2)"
   ]
  },
  {
   "cell_type": "markdown",
   "metadata": {},
   "source": [
    "## **Save outputs**"
   ]
  },
  {
   "cell_type": "code",
   "execution_count": 86,
   "metadata": {},
   "outputs": [],
   "source": [
    "def process_data_with_max_depth(data_root='data', output_root='outputs', depths=[None, 2, 3, 4, 5, 6, 7]):\n",
    "    \n",
    "    os.makedirs(output_root, exist_ok=True)\n",
    "    \n",
    "    for data_split in os.listdir(data_root):\n",
    "        data_split_path = os.path.join(data_root, data_split)\n",
    "        depth_accuracy = []\n",
    "        \n",
    "        if os.path.isdir(data_split_path):\n",
    "            X_train, y_train, X_test, y_test = load_split_data(data_split_folder=data_split_path)\n",
    "            \n",
    "            output_split_path = os.path.join(output_root, data_split)\n",
    "            os.makedirs(output_split_path, exist_ok=True)\n",
    "            \n",
    "            for max_depth in depths:\n",
    "                output_depth_path = os.path.join(output_split_path, f\"depth_{max_depth}\")\n",
    "                os.makedirs(output_depth_path, exist_ok=True)\n",
    "                \n",
    "                graphviz_path = os.path.join(output_depth_path, f'bcw_{data_split}_depth_{max_depth}_graphviz')\n",
    "                report_path = os.path.join(output_depth_path, f'bcw_{data_split}_depth_{max_depth}_report.xlsx')\n",
    "                heatmap_path = os.path.join(output_depth_path, f'bcw_{data_split}_depth_{max_depth}_heatmap.png')\n",
    "                \n",
    "                model = train_decision_tree(X_train, y_train, max_depth=max_depth, feature_names=X_train.columns, graphviz_path=graphviz_path)\n",
    "                accuracy = evaluate_decision_tree(model, X_test, y_test, report_path=report_path, heatmap_path=heatmap_path)\n",
    "                depth_accuracy.append((max_depth if max_depth is not None else 'None', accuracy))\n",
    "            \n",
    "            max_depths = ['max_depth'] + [depth if depth is not None else 'None' for depth, _ in depth_accuracy]\n",
    "            accuracies = ['Accuracy'] + [accuracy for _, accuracy in depth_accuracy]\n",
    "            \n",
    "            depth_accuracy_df = pd.DataFrame([max_depths, accuracies]).T\n",
    "                        \n",
    "            excel_path = os.path.join(output_split_path, f'bcw_{data_split}_depth_accuracy.xlsx')\n",
    "            depth_accuracy_df.to_excel(excel_path, index=False, header=False)"
   ]
  },
  {
   "cell_type": "code",
   "execution_count": 88,
   "metadata": {},
   "outputs": [],
   "source": [
    "# process_data_with_max_depth()"
   ]
  },
  {
   "cell_type": "code",
   "execution_count": null,
   "metadata": {},
   "outputs": [],
   "source": [
    "data = {\n",
    "    'col1': ['col1', 1, 2],\n",
    "    'col2': ['col2', 3, 4]\n",
    "}\n",
    "\n",
    "\n",
    "\n",
    "df = pd.DataFrame(data)\n",
    "df = df.T\n",
    "\n",
    "\n",
    "df.to_excel('test.xlsx', index=False, header=False)\n"
   ]
  }
 ],
 "metadata": {
  "kernelspec": {
   "display_name": "base",
   "language": "python",
   "name": "python3"
  },
  "language_info": {
   "codemirror_mode": {
    "name": "ipython",
    "version": 3
   },
   "file_extension": ".py",
   "mimetype": "text/x-python",
   "name": "python",
   "nbconvert_exporter": "python",
   "pygments_lexer": "ipython3",
   "version": "3.11.8"
  }
 },
 "nbformat": 4,
 "nbformat_minor": 2
}
