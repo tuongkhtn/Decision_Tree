{
 "cells": [
  {
   "cell_type": "markdown",
   "metadata": {},
   "source": [
    "## **Import Libraries**"
   ]
  },
  {
   "cell_type": "code",
   "execution_count": 24,
   "metadata": {},
   "outputs": [],
   "source": [
    "import os\n",
    "import numpy as np\n",
    "import pandas as pd\n",
    "import seaborn as sns\n",
    "import matplotlib.pyplot as plt\n",
    "\n",
    "import graphviz\n",
    "from sklearn.datasets import load_breast_cancer\n",
    "from sklearn.model_selection import StratifiedShuffleSplit\n",
    "from sklearn.tree import DecisionTreeClassifier, export_graphviz\n",
    "from sklearn.metrics import classification_report, confusion_matrix"
   ]
  },
  {
   "cell_type": "markdown",
   "metadata": {},
   "source": [
    "## **Load dataset**"
   ]
  },
  {
   "cell_type": "code",
   "execution_count": 2,
   "metadata": {},
   "outputs": [],
   "source": [
    "data = load_breast_cancer()\n",
    "features = pd.DataFrame(data.data, columns=data.feature_names)\n",
    "labels = pd.Series(data.target, name=\"target\")"
   ]
  },
  {
   "cell_type": "markdown",
   "metadata": {},
   "source": [
    "## **Split dataset into training and testing set**"
   ]
  },
  {
   "cell_type": "markdown",
   "metadata": {},
   "source": [
    "### **Save data**"
   ]
  },
  {
   "cell_type": "code",
   "execution_count": 3,
   "metadata": {},
   "outputs": [],
   "source": [
    "def split_and_save_data(features, labels, ratio_test=0.4, root_folder='data'):\n",
    "    \"\"\"\n",
    "    Splits the dataset into training and testing sets based on the specified ratio, \n",
    "    then saves the split data into CSV files within a structured folder hierarchy.\n",
    "\n",
    "    Args:\n",
    "        features (pd.DataFrame): Input dataset containing the features to be split.\n",
    "        labels (pd.Series): Corresponding labels for the input dataset.\n",
    "        ratio_test (float, optional): Proportion of the data to be used for testing. \n",
    "            Defaults to 0.4 (60% train, 40% test).\n",
    "        root_folder (str, optional): Root directory where the split data will be saved. \n",
    "            Defaults to 'data.\n",
    "    \"\"\"\n",
    "    \n",
    "    train_percent = int((1 - ratio_test) * 100)\n",
    "    test_percent = int(ratio_test * 100)\n",
    "    \n",
    "    os.makedirs(root_folder, exist_ok=True)\n",
    "    \n",
    "    base_folder_name = f\"train_{train_percent}_test_{test_percent}\"\n",
    "    base_folder = os.path.join(root_folder, base_folder_name)\n",
    "    os.makedirs(base_folder, exist_ok=True)\n",
    "    \n",
    "    train_folder = os.path.join(base_folder, \"train\")\n",
    "    test_folder = os.path.join(base_folder, \"test\")\n",
    "    os.makedirs(train_folder, exist_ok=True)\n",
    "    os.makedirs(test_folder, exist_ok=True)\n",
    "    \n",
    "    sss = StratifiedShuffleSplit(n_splits=1, test_size=ratio_test, random_state=42)\n",
    "    for train_index, test_index in sss.split(features, labels):\n",
    "        train_features, test_features = features.iloc[train_index], features.iloc[test_index]\n",
    "        train_labels, test_labels = labels.iloc[train_index], labels.iloc[test_index]\n",
    "        \n",
    "        train_features.to_csv(os.path.join(train_folder, \"feature_train.csv\"), index=False)\n",
    "        train_labels.to_csv(os.path.join(train_folder, \"label_train.csv\"), index=False, header=False)\n",
    "        \n",
    "        test_features.to_csv(os.path.join(test_folder, \"feature_test.csv\"), index=False)\n",
    "        test_labels.to_csv(os.path.join(test_folder, \"label_test.csv\"), index=False, header=False)\n",
    "    \n",
    "    "
   ]
  },
  {
   "cell_type": "code",
   "execution_count": 38,
   "metadata": {},
   "outputs": [],
   "source": [
    "split_and_save_data(features, labels, ratio_test=0.6)\n",
    "split_and_save_data(features, labels, ratio_test=0.4)\n",
    "split_and_save_data(features, labels, ratio_test=0.2)\n",
    "split_and_save_data(features, labels, ratio_test=0.1)"
   ]
  },
  {
   "cell_type": "markdown",
   "metadata": {},
   "source": [
    "### **Training and testing data**"
   ]
  },
  {
   "cell_type": "code",
   "execution_count": 4,
   "metadata": {},
   "outputs": [],
   "source": [
    "def load_split_data(ratio_test=0.4, root_data='data'):\n",
    "    \"\"\"\n",
    "    Loads the train and test datasets from CSV files saved previously, \n",
    "    based on the specified ratio for the test dataset.\n",
    "\n",
    "    Args:\n",
    "        ratio_test (float, optional): Proportion of the data to be used for testing. \n",
    "            Defaults to 0.4 (40% test, 60% train).\n",
    "        root_folder (str, optional): Root directory where the split data is saved. \n",
    "            Defaults to \"data\".\n",
    "\n",
    "    Returns:\n",
    "        X_train (pd.DataFrame): The features of the training set.\n",
    "        y_train (pd.Series): The labels of the training set.\n",
    "        X_test (pd.DataFrame): The features of the testing set.\n",
    "        y_test (pd.Series): The labels of the testing set.\n",
    "    \"\"\"\n",
    "    \n",
    "    train_percent = int((1 - ratio_test) * 100)\n",
    "    test_percent = int(ratio_test * 100)\n",
    "    \n",
    "    base_folder_name = f\"train_{train_percent}_test_{test_percent}\"\n",
    "    base_folder = os.path.join(root_data, base_folder_name)\n",
    "    \n",
    "    train_folder = os.path.join(base_folder, \"train\")\n",
    "    test_folder = os.path.join(base_folder, \"test\")\n",
    "    \n",
    "    X_train = pd.read_csv(os.path.join(train_folder, \"feature_train.csv\"))\n",
    "    y_train = pd.read_csv(os.path.join(train_folder, \"label_train.csv\"), header=None).squeeze()\n",
    "    \n",
    "    X_test = pd.read_csv(os.path.join(test_folder, \"feature_test.csv\"))\n",
    "    y_test = pd.read_csv(os.path.join(test_folder, \"label_test.csv\"), header=None).squeeze()\n",
    "    \n",
    "    return X_train, y_train, X_test, y_test"
   ]
  },
  {
   "cell_type": "code",
   "execution_count": 5,
   "metadata": {},
   "outputs": [],
   "source": [
    "X_train, y_train, X_test, y_test = load_split_data(ratio_test=0.4)"
   ]
  },
  {
   "cell_type": "markdown",
   "metadata": {},
   "source": [
    "### **Visualize the data**"
   ]
  },
  {
   "cell_type": "code",
   "execution_count": 6,
   "metadata": {},
   "outputs": [],
   "source": [
    "def visualize_class_distribution(original_labels, train_labels, test_labels):\n",
    "    original_counts = original_labels.value_counts()\n",
    "    train_counts = train_labels.value_counts()\n",
    "    test_counts = test_labels.value_counts()\n",
    "    \n",
    "    classes = sorted(original_counts.index)\n",
    "    original_counts = original_counts.reindex(classes)\n",
    "    train_counts = train_counts.reindex(classes)\n",
    "    test_counts = test_counts.reindex(classes)\n",
    "    \n",
    "    plt.figure(figsize=(12, 6))\n",
    "    \n",
    "    x = range(len(classes))\n",
    "    width = 0.2\n",
    "    \n",
    "    plt.bar([i - width for i in x], original_counts, width=width, label='Original', color='blue')\n",
    "    plt.bar(x, train_counts, width=width, label='Train', color='green')\n",
    "    plt.bar([i + width for i in x], test_counts, width=width, label='Test', color='red')\n",
    "    \n",
    "    plt.xticks(x, [f'Class {cls}' for cls in classes])\n",
    "    plt.xlabel('Classes')\n",
    "    plt.ylabel('Count')\n",
    "    plt.title('Class Distribution in the Original, Train, and Test Datasets')\n",
    "    plt.legend()\n",
    "    plt.tight_layout()\n",
    "    \n",
    "    plt.show()"
   ]
  },
  {
   "cell_type": "code",
   "execution_count": 7,
   "metadata": {},
   "outputs": [
    {
     "data": {
      "image/png": "[encoded data removed]",
      "text/plain": [
       "<Figure size 1200x600 with 1 Axes>"
      ]
     },
     "metadata": {},
     "output_type": "display_data"
    }
   ],
   "source": [
    "visualize_class_distribution(\n",
    "    original_labels=labels,\n",
    "    train_labels=y_train,\n",
    "    test_labels=y_test\n",
    ")"
   ]
  },
  {
   "cell_type": "markdown",
   "metadata": {},
   "source": [
    "## **Training**"
   ]
  },
  {
   "cell_type": "code",
   "execution_count": 10,
   "metadata": {},
   "outputs": [],
   "source": [
    "def train_decision_tree(X_train, y_train, criterion='entropy', max_depth=None, feature_names=None):\n",
    "    \"\"\"\n",
    "    Trains a decision tree classifier on the input features and labels.\n",
    "\n",
    "    Args:\n",
    "        X_train (pd.DataFrame): The input features of the training set.\n",
    "        y_train (pd.Series): The labels of the training set.\n",
    "        max_depth (int, optional): The maximum depth of the decision tree. \n",
    "            Defaults to None.\n",
    "\n",
    "    Returns:\n",
    "        model (DecisionTreeClassifier): The trained decision tree classifier.\n",
    "    \"\"\"\n",
    "    \n",
    "    # Train decision tree classifier\n",
    "    model = DecisionTreeClassifier(criterion=criterion, max_depth=max_depth, random_state=42)\n",
    "    model.fit(X_train, y_train)\n",
    "    \n",
    "    # Visualize the decision tree  \n",
    "    if feature_names is not None:\n",
    "        dot_data = export_graphviz(\n",
    "            model, out_file=None,\n",
    "            feature_names=feature_names,\n",
    "            class_names=np.unique(y_train).astype(str),\n",
    "            filled=True, rounded=True,\n",
    "            special_characters=True\n",
    "        )\n",
    "        \n",
    "        graph = graphviz.Source(dot_data)\n",
    "        graph.render(\"decision_tree\")\n",
    "        graph.view()\n",
    "    \n",
    "    return model"
   ]
  },
  {
   "cell_type": "code",
   "execution_count": 12,
   "metadata": {},
   "outputs": [],
   "source": [
    "model = train_decision_tree(X_train, y_train, max_depth=2, feature_names=X_train.columns)"
   ]
  },
  {
   "cell_type": "markdown",
   "metadata": {},
   "source": [
    "## **Evaluation**"
   ]
  },
  {
   "cell_type": "code",
   "execution_count": 25,
   "metadata": {},
   "outputs": [],
   "source": [
    "def evaluate_decision_tree(model, X_test, y_test):\n",
    "    y_pred = model.predict(X_test)\n",
    "    \n",
    "    print(\"Classification Report:\")\n",
    "    print(classification_report(y_test, y_pred))\n",
    "    \n",
    "    print(\"Confusion Matrix:\")\n",
    "    cm = confusion_matrix(y_test, y_pred)\n",
    "    print(cm)\n",
    "    \n",
    "    plt.figure(figsize=(8, 6))\n",
    "    sns.heatmap(cm, annot=True, fmt='d', cmap='Blues', xticklabels=np.unique(y_test), yticklabels=np.unique(y_test), annot_kws={'size': 16})\n",
    "    plt.title('Confusion Matrix')\n",
    "    plt.xlabel('Predicted')\n",
    "    plt.ylabel('True')\n",
    "    plt.tight_layout()\n",
    "    plt.show()"
   ]
  },
  {
   "cell_type": "code",
   "execution_count": 26,
   "metadata": {},
   "outputs": [
    {
     "name": "stdout",
     "output_type": "stream",
     "text": [
      "Classification Report:\n",
      "              precision    recall  f1-score   support\n",
      "\n",
      "           0       0.84      0.95      0.90        85\n",
      "           1       0.97      0.90      0.93       143\n",
      "\n",
      "    accuracy                           0.92       228\n",
      "   macro avg       0.91      0.92      0.91       228\n",
      "weighted avg       0.92      0.92      0.92       228\n",
      "\n",
      "Confusion Matrix:\n",
      "[[ 81   4]\n",
      " [ 15 128]]\n"
     ]
    },
    {
     "data": {
      "image/png": "[encoded data removed]",
      "text/plain": [
       "<Figure size 800x600 with 2 Axes>"
      ]
     },
     "metadata": {},
     "output_type": "display_data"
    }
   ],
   "source": [
    "evaluate_decision_tree(model, X_test, y_test)"
   ]
  }
 ],
 "metadata": {
  "kernelspec": {
   "display_name": "base",
   "language": "python",
   "name": "python3"
  },
  "language_info": {
   "codemirror_mode": {
    "name": "ipython",
    "version": 3
   },
   "file_extension": ".py",
   "mimetype": "text/x-python",
   "name": "python",
   "nbconvert_exporter": "python",
   "pygments_lexer": "ipython3",
   "version": "3.11.8"
  }
 },
 "nbformat": 4,
 "nbformat_minor": 2
}
